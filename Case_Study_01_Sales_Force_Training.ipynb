{
  "cells": [
    {
      "cell_type": "code",
      "execution_count": null,
      "id": "309dabb9-e570-4d6f-b227-5f2fdd40736b",
      "metadata": {
        "id": "309dabb9-e570-4d6f-b227-5f2fdd40736b"
      },
      "outputs": [],
      "source": [
        "#Import Libraries\n",
        "import pandas as pd\n",
        "import numpy as np\n",
        "import scipy.stats as stats\n",
        "import statistics"
      ]
    },
    {
      "cell_type": "code",
      "execution_count": null,
      "id": "56587e98-c378-44b9-93f0-d796b76124ff",
      "metadata": {
        "id": "56587e98-c378-44b9-93f0-d796b76124ff",
        "colab": {
          "base_uri": "https://localhost:8080/",
          "height": 206
        },
        "outputId": "a13a39d8-5c69-4560-b200-67fddb0a422c"
      },
      "outputs": [
        {
          "output_type": "execute_result",
          "data": {
            "text/plain": [
              "   Transactions amount\n",
              "0                  100\n",
              "1                  150\n",
              "2                   50\n",
              "3                  100\n",
              "4                  130"
            ],
            "text/html": [
              "\n",
              "  <div id=\"df-0a86bbe1-4e43-4231-8c1b-e9f2c8de0ceb\" class=\"colab-df-container\">\n",
              "    <div>\n",
              "<style scoped>\n",
              "    .dataframe tbody tr th:only-of-type {\n",
              "        vertical-align: middle;\n",
              "    }\n",
              "\n",
              "    .dataframe tbody tr th {\n",
              "        vertical-align: top;\n",
              "    }\n",
              "\n",
              "    .dataframe thead th {\n",
              "        text-align: right;\n",
              "    }\n",
              "</style>\n",
              "<table border=\"1\" class=\"dataframe\">\n",
              "  <thead>\n",
              "    <tr style=\"text-align: right;\">\n",
              "      <th></th>\n",
              "      <th>Transactions amount</th>\n",
              "    </tr>\n",
              "  </thead>\n",
              "  <tbody>\n",
              "    <tr>\n",
              "      <th>0</th>\n",
              "      <td>100</td>\n",
              "    </tr>\n",
              "    <tr>\n",
              "      <th>1</th>\n",
              "      <td>150</td>\n",
              "    </tr>\n",
              "    <tr>\n",
              "      <th>2</th>\n",
              "      <td>50</td>\n",
              "    </tr>\n",
              "    <tr>\n",
              "      <th>3</th>\n",
              "      <td>100</td>\n",
              "    </tr>\n",
              "    <tr>\n",
              "      <th>4</th>\n",
              "      <td>130</td>\n",
              "    </tr>\n",
              "  </tbody>\n",
              "</table>\n",
              "</div>\n",
              "    <div class=\"colab-df-buttons\">\n",
              "\n",
              "  <div class=\"colab-df-container\">\n",
              "    <button class=\"colab-df-convert\" onclick=\"convertToInteractive('df-0a86bbe1-4e43-4231-8c1b-e9f2c8de0ceb')\"\n",
              "            title=\"Convert this dataframe to an interactive table.\"\n",
              "            style=\"display:none;\">\n",
              "\n",
              "  <svg xmlns=\"http://www.w3.org/2000/svg\" height=\"24px\" viewBox=\"0 -960 960 960\">\n",
              "    <path d=\"M120-120v-720h720v720H120Zm60-500h600v-160H180v160Zm220 220h160v-160H400v160Zm0 220h160v-160H400v160ZM180-400h160v-160H180v160Zm440 0h160v-160H620v160ZM180-180h160v-160H180v160Zm440 0h160v-160H620v160Z\"/>\n",
              "  </svg>\n",
              "    </button>\n",
              "\n",
              "  <style>\n",
              "    .colab-df-container {\n",
              "      display:flex;\n",
              "      gap: 12px;\n",
              "    }\n",
              "\n",
              "    .colab-df-convert {\n",
              "      background-color: #E8F0FE;\n",
              "      border: none;\n",
              "      border-radius: 50%;\n",
              "      cursor: pointer;\n",
              "      display: none;\n",
              "      fill: #1967D2;\n",
              "      height: 32px;\n",
              "      padding: 0 0 0 0;\n",
              "      width: 32px;\n",
              "    }\n",
              "\n",
              "    .colab-df-convert:hover {\n",
              "      background-color: #E2EBFA;\n",
              "      box-shadow: 0px 1px 2px rgba(60, 64, 67, 0.3), 0px 1px 3px 1px rgba(60, 64, 67, 0.15);\n",
              "      fill: #174EA6;\n",
              "    }\n",
              "\n",
              "    .colab-df-buttons div {\n",
              "      margin-bottom: 4px;\n",
              "    }\n",
              "\n",
              "    [theme=dark] .colab-df-convert {\n",
              "      background-color: #3B4455;\n",
              "      fill: #D2E3FC;\n",
              "    }\n",
              "\n",
              "    [theme=dark] .colab-df-convert:hover {\n",
              "      background-color: #434B5C;\n",
              "      box-shadow: 0px 1px 3px 1px rgba(0, 0, 0, 0.15);\n",
              "      filter: drop-shadow(0px 1px 2px rgba(0, 0, 0, 0.3));\n",
              "      fill: #FFFFFF;\n",
              "    }\n",
              "  </style>\n",
              "\n",
              "    <script>\n",
              "      const buttonEl =\n",
              "        document.querySelector('#df-0a86bbe1-4e43-4231-8c1b-e9f2c8de0ceb button.colab-df-convert');\n",
              "      buttonEl.style.display =\n",
              "        google.colab.kernel.accessAllowed ? 'block' : 'none';\n",
              "\n",
              "      async function convertToInteractive(key) {\n",
              "        const element = document.querySelector('#df-0a86bbe1-4e43-4231-8c1b-e9f2c8de0ceb');\n",
              "        const dataTable =\n",
              "          await google.colab.kernel.invokeFunction('convertToInteractive',\n",
              "                                                    [key], {});\n",
              "        if (!dataTable) return;\n",
              "\n",
              "        const docLinkHtml = 'Like what you see? Visit the ' +\n",
              "          '<a target=\"_blank\" href=https://colab.research.google.com/notebooks/data_table.ipynb>data table notebook</a>'\n",
              "          + ' to learn more about interactive tables.';\n",
              "        element.innerHTML = '';\n",
              "        dataTable['output_type'] = 'display_data';\n",
              "        await google.colab.output.renderOutput(dataTable, element);\n",
              "        const docLink = document.createElement('div');\n",
              "        docLink.innerHTML = docLinkHtml;\n",
              "        element.appendChild(docLink);\n",
              "      }\n",
              "    </script>\n",
              "  </div>\n",
              "\n",
              "\n",
              "<div id=\"df-3d8754f5-7fc2-4068-8945-2cd6b41a78ab\">\n",
              "  <button class=\"colab-df-quickchart\" onclick=\"quickchart('df-3d8754f5-7fc2-4068-8945-2cd6b41a78ab')\"\n",
              "            title=\"Suggest charts\"\n",
              "            style=\"display:none;\">\n",
              "\n",
              "<svg xmlns=\"http://www.w3.org/2000/svg\" height=\"24px\"viewBox=\"0 0 24 24\"\n",
              "     width=\"24px\">\n",
              "    <g>\n",
              "        <path d=\"M19 3H5c-1.1 0-2 .9-2 2v14c0 1.1.9 2 2 2h14c1.1 0 2-.9 2-2V5c0-1.1-.9-2-2-2zM9 17H7v-7h2v7zm4 0h-2V7h2v10zm4 0h-2v-4h2v4z\"/>\n",
              "    </g>\n",
              "</svg>\n",
              "  </button>\n",
              "\n",
              "<style>\n",
              "  .colab-df-quickchart {\n",
              "      --bg-color: #E8F0FE;\n",
              "      --fill-color: #1967D2;\n",
              "      --hover-bg-color: #E2EBFA;\n",
              "      --hover-fill-color: #174EA6;\n",
              "      --disabled-fill-color: #AAA;\n",
              "      --disabled-bg-color: #DDD;\n",
              "  }\n",
              "\n",
              "  [theme=dark] .colab-df-quickchart {\n",
              "      --bg-color: #3B4455;\n",
              "      --fill-color: #D2E3FC;\n",
              "      --hover-bg-color: #434B5C;\n",
              "      --hover-fill-color: #FFFFFF;\n",
              "      --disabled-bg-color: #3B4455;\n",
              "      --disabled-fill-color: #666;\n",
              "  }\n",
              "\n",
              "  .colab-df-quickchart {\n",
              "    background-color: var(--bg-color);\n",
              "    border: none;\n",
              "    border-radius: 50%;\n",
              "    cursor: pointer;\n",
              "    display: none;\n",
              "    fill: var(--fill-color);\n",
              "    height: 32px;\n",
              "    padding: 0;\n",
              "    width: 32px;\n",
              "  }\n",
              "\n",
              "  .colab-df-quickchart:hover {\n",
              "    background-color: var(--hover-bg-color);\n",
              "    box-shadow: 0 1px 2px rgba(60, 64, 67, 0.3), 0 1px 3px 1px rgba(60, 64, 67, 0.15);\n",
              "    fill: var(--button-hover-fill-color);\n",
              "  }\n",
              "\n",
              "  .colab-df-quickchart-complete:disabled,\n",
              "  .colab-df-quickchart-complete:disabled:hover {\n",
              "    background-color: var(--disabled-bg-color);\n",
              "    fill: var(--disabled-fill-color);\n",
              "    box-shadow: none;\n",
              "  }\n",
              "\n",
              "  .colab-df-spinner {\n",
              "    border: 2px solid var(--fill-color);\n",
              "    border-color: transparent;\n",
              "    border-bottom-color: var(--fill-color);\n",
              "    animation:\n",
              "      spin 1s steps(1) infinite;\n",
              "  }\n",
              "\n",
              "  @keyframes spin {\n",
              "    0% {\n",
              "      border-color: transparent;\n",
              "      border-bottom-color: var(--fill-color);\n",
              "      border-left-color: var(--fill-color);\n",
              "    }\n",
              "    20% {\n",
              "      border-color: transparent;\n",
              "      border-left-color: var(--fill-color);\n",
              "      border-top-color: var(--fill-color);\n",
              "    }\n",
              "    30% {\n",
              "      border-color: transparent;\n",
              "      border-left-color: var(--fill-color);\n",
              "      border-top-color: var(--fill-color);\n",
              "      border-right-color: var(--fill-color);\n",
              "    }\n",
              "    40% {\n",
              "      border-color: transparent;\n",
              "      border-right-color: var(--fill-color);\n",
              "      border-top-color: var(--fill-color);\n",
              "    }\n",
              "    60% {\n",
              "      border-color: transparent;\n",
              "      border-right-color: var(--fill-color);\n",
              "    }\n",
              "    80% {\n",
              "      border-color: transparent;\n",
              "      border-right-color: var(--fill-color);\n",
              "      border-bottom-color: var(--fill-color);\n",
              "    }\n",
              "    90% {\n",
              "      border-color: transparent;\n",
              "      border-bottom-color: var(--fill-color);\n",
              "    }\n",
              "  }\n",
              "</style>\n",
              "\n",
              "  <script>\n",
              "    async function quickchart(key) {\n",
              "      const quickchartButtonEl =\n",
              "        document.querySelector('#' + key + ' button');\n",
              "      quickchartButtonEl.disabled = true;  // To prevent multiple clicks.\n",
              "      quickchartButtonEl.classList.add('colab-df-spinner');\n",
              "      try {\n",
              "        const charts = await google.colab.kernel.invokeFunction(\n",
              "            'suggestCharts', [key], {});\n",
              "      } catch (error) {\n",
              "        console.error('Error during call to suggestCharts:', error);\n",
              "      }\n",
              "      quickchartButtonEl.classList.remove('colab-df-spinner');\n",
              "      quickchartButtonEl.classList.add('colab-df-quickchart-complete');\n",
              "    }\n",
              "    (() => {\n",
              "      let quickchartButtonEl =\n",
              "        document.querySelector('#df-3d8754f5-7fc2-4068-8945-2cd6b41a78ab button');\n",
              "      quickchartButtonEl.style.display =\n",
              "        google.colab.kernel.accessAllowed ? 'block' : 'none';\n",
              "    })();\n",
              "  </script>\n",
              "</div>\n",
              "    </div>\n",
              "  </div>\n"
            ],
            "application/vnd.google.colaboratory.intrinsic+json": {
              "type": "dataframe",
              "variable_name": "df",
              "summary": "{\n  \"name\": \"df\",\n  \"rows\": 25,\n  \"fields\": [\n    {\n      \"column\": \"Transactions amount\",\n      \"properties\": {\n        \"dtype\": \"number\",\n        \"std\": 31,\n        \"min\": 50,\n        \"max\": 150,\n        \"num_unique_values\": 12,\n        \"samples\": [\n          75,\n          110,\n          100\n        ],\n        \"semantic_type\": \"\",\n        \"description\": \"\"\n      }\n    }\n  ]\n}"
            }
          },
          "metadata": {},
          "execution_count": 17
        }
      ],
      "source": [
        "#Create DataFrame\n",
        "df = pd.DataFrame({'Transactions amount' : [100, 150, 50, 100, 130,\n",
        "                                             120, 100, 85, 70, 150,\n",
        "                                             150, 120, 50, 100, 100,\n",
        "                                             140, 90, 150, 50, 90,\n",
        "                                             120, 100, 110, 75, 65]})\n",
        "df.head()"
      ]
    },
    {
      "cell_type": "code",
      "execution_count": null,
      "id": "KOFYWfvUtfMx",
      "metadata": {
        "id": "KOFYWfvUtfMx",
        "colab": {
          "base_uri": "https://localhost:8080/"
        },
        "outputId": "95cc8de9-b2ff-43dc-9295-d13da2fcc789"
      },
      "outputs": [
        {
          "output_type": "stream",
          "name": "stdout",
          "text": [
            "Mean : 102.6\n",
            "Median : 100\n",
            "Mode : 100\n"
          ]
        }
      ],
      "source": [
        "#Central Tendency\n",
        "print('Mean :', statistics.mean(df['Transactions amount']))\n",
        "print('Median :', statistics.median(df['Transactions amount']))\n",
        "print('Mode :', statistics.mode(df['Transactions amount']))"
      ]
    },
    {
      "cell_type": "code",
      "execution_count": null,
      "id": "ceRxEGdTt966",
      "metadata": {
        "id": "ceRxEGdTt966"
      },
      "outputs": [],
      "source": [
        "#Berdasarkan hasil analisa pengukuran Central Tendency diatas, menunjukkan bahwa Dari hasil ini, kita dapat menyimpulkan bahwa sebagian besar data cenderung berkumpul dan berpusat di sekitar nilai 100"
      ]
    },
    {
      "cell_type": "code",
      "execution_count": null,
      "id": "UcbHy344uQ-G",
      "metadata": {
        "id": "UcbHy344uQ-G",
        "colab": {
          "base_uri": "https://localhost:8080/"
        },
        "outputId": "ac254676-a4c2-4538-961c-ad4a18af0986"
      },
      "outputs": [
        {
          "output_type": "stream",
          "name": "stdout",
          "text": [
            "variance :  972.2399999999999\n",
            "Standard Deviation : 31.18076330047101\n",
            "Max : 150\n",
            "Min : 50\n",
            "Range : 100\n",
            "Q1 : 85.0\n",
            "Q2 : 100.0\n",
            "Q3 : 120.0\n"
          ]
        }
      ],
      "source": [
        "#Variability\n",
        "print('variance : ', np.var(df['Transactions amount']))\n",
        "print('Standard Deviation :', np.std(df['Transactions amount']))\n",
        "print('Max :', np.max(df['Transactions amount']))\n",
        "print('Min :', np.min(df['Transactions amount']))\n",
        "print('Range :', np.max(df['Transactions amount']) - np.min(df['Transactions amount']))\n",
        "print('Q1 :', np.quantile(df['Transactions amount'], 0.25))\n",
        "print('Q2 :', np.quantile(df['Transactions amount'], 0.5))\n",
        "print('Q3 :', np.quantile(df['Transactions amount'], 0.75))"
      ]
    },
    {
      "cell_type": "code",
      "execution_count": null,
      "id": "v_dl9Fneuabm",
      "metadata": {
        "id": "v_dl9Fneuabm"
      },
      "outputs": [],
      "source": [
        "#Dari hasil analisis variability menunjukkan bahwa dataset memiliki tingkat variasi dan sebaran yang cukup besar. ditunjukkan dengan titik data yang tersebar dari nilai minimum hingga maksimum yang signifikan, standar Deviasi yang dalam dataset relatif tinggi serta kuartil juga menunjukkan bahwa sebagian besar data terkonsentrasi antara nilai 85 hingga 120."
      ]
    },
    {
      "cell_type": "code",
      "execution_count": null,
      "id": "3786f132-4bd1-4c72-a5d9-1044aa088818",
      "metadata": {
        "id": "3786f132-4bd1-4c72-a5d9-1044aa088818"
      },
      "outputs": [],
      "source": [
        "#Define H0 and H1\n",
        "#H0: Penjualan rata-rata = 100 per transaksi Setelah dilakukan training kepada pekerja sales\n",
        "#H1: Penjualan rata-rata > 100 per transaksi Setelah dilakukan training kepada pekerja sales"
      ]
    },
    {
      "cell_type": "code",
      "execution_count": null,
      "id": "b8103158-ecda-478d-9926-7ec0dcfc5c12",
      "metadata": {
        "id": "b8103158-ecda-478d-9926-7ec0dcfc5c12"
      },
      "outputs": [],
      "source": [
        "#Define alpha = 0.05"
      ]
    },
    {
      "cell_type": "code",
      "execution_count": null,
      "id": "686e0fc4-84d5-4712-ae90-b47eb3ea44ac",
      "metadata": {
        "id": "686e0fc4-84d5-4712-ae90-b47eb3ea44ac",
        "colab": {
          "base_uri": "https://localhost:8080/"
        },
        "outputId": "4e170d24-7e41-4cf4-8e80-7136f68f3e98"
      },
      "outputs": [
        {
          "output_type": "stream",
          "name": "stdout",
          "text": [
            "t-test : 0.4085001556802841\n",
            "P-value : 0.6865284813438117\n"
          ]
        }
      ],
      "source": [
        "#Calculate t statistics and P-value\n",
        "#Perform one sample t-test\n",
        "t_test, pvalue= stats.ttest_1samp(a=df['Transactions amount'], popmean=100)\n",
        "print('t-test :', t_test)\n",
        "print('P-value :', pvalue)"
      ]
    },
    {
      "cell_type": "code",
      "execution_count": null,
      "id": "592f6cf7",
      "metadata": {
        "id": "592f6cf7"
      },
      "outputs": [],
      "source": [
        "#statistic= 0.408 , pvalue= 0.686"
      ]
    },
    {
      "cell_type": "code",
      "execution_count": null,
      "id": "35c7de5f-3992-4872-98ea-9e9269b1557b",
      "metadata": {
        "id": "35c7de5f-3992-4872-98ea-9e9269b1557b"
      },
      "outputs": [],
      "source": [
        "#Conclude with alpha and p-value\n",
        "#Berdasarkan pengujian hipotesis diatas, menunjukan nilai p-value lebih besar dari alpha (0.05), maka gagal menolak H0\n",
        "#Conclusion: Melakukan Sales force training kepada pekerja sales belum mampu untuk meningkatkan penjualan rata-rata, sehingga rata-rata penjualan rata-rata masih di angka 100"
      ]
    },
    {
      "cell_type": "code",
      "execution_count": null,
      "id": "9580db55-a594-4c1b-a5e6-3787906505c2",
      "metadata": {
        "id": "9580db55-a594-4c1b-a5e6-3787906505c2",
        "colab": {
          "base_uri": "https://localhost:8080/"
        },
        "outputId": "e5fe03a6-3138-43a5-fb65-36d699f62b6a"
      },
      "outputs": [
        {
          "output_type": "stream",
          "name": "stdout",
          "text": [
            "Critical value : 1.7108820799094275\n"
          ]
        }
      ],
      "source": [
        "#Conclude with t statistics and critical region\n",
        "print('Critical value :', stats.t.ppf(1-0.05, 24))\n",
        "#Conclusion : Berdasarkan pengujian nilai t, menunjukkan bahwa nilai t-statistic berada diluar critical value (critical region : t > 1.71), maka gagal menolak H0"
      ]
    },
    {
      "cell_type": "code",
      "execution_count": null,
      "id": "1429f038",
      "metadata": {
        "id": "1429f038"
      },
      "outputs": [],
      "source": [
        "#H0: Penjualan rata-rata = 100 per transaksi Setelah dilakukan training kepada pekerja sales"
      ]
    },
    {
      "cell_type": "code",
      "execution_count": null,
      "id": "d6595428-5211-4cf7-bb61-ca8e201e6ef6",
      "metadata": {
        "id": "d6595428-5211-4cf7-bb61-ca8e201e6ef6"
      },
      "outputs": [],
      "source": [
        "#Critical region result\n",
        "#Berdasarkan pengujian nilai t, menunjukkan bahwa nilai t-statistic berada diluar critical value (critical region : t > 1.71), maka gagal menolak H0\n",
        "#Conclusion: Melakukan Sales force training kepada pekerja sales belum mampu untuk meningkatkan penjualan rata-rata, sehingga rata-rata penjualan rata-rata masih di angka 100"
      ]
    }
  ],
  "metadata": {
    "colab": {
      "provenance": []
    },
    "kernelspec": {
      "display_name": "Python 3",
      "language": "python",
      "name": "python3"
    },
    "language_info": {
      "codemirror_mode": {
        "name": "ipython",
        "version": 3
      },
      "file_extension": ".py",
      "mimetype": "text/x-python",
      "name": "python",
      "nbconvert_exporter": "python",
      "pygments_lexer": "ipython3",
      "version": "3.11.1 (tags/v3.11.1:a7a450f, Dec  6 2022, 19:58:39) [MSC v.1934 64 bit (AMD64)]"
    },
    "vscode": {
      "interpreter": {
        "hash": "5e70fd34aa919644e731ce0c71c5ec6c66d3b48eb7909f9a04da7ee7076ef028"
      }
    }
  },
  "nbformat": 4,
  "nbformat_minor": 5
}